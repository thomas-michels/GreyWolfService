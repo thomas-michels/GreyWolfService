{
 "cells": [
  {
   "cell_type": "markdown",
   "metadata": {},
   "source": [
    "# **Analise de cada campo**\n",
    "-----------------"
   ]
  },
  {
   "cell_type": "markdown",
   "metadata": {},
   "source": [
    "### **Como chegar no preço de um imóvel?**\n",
    "\n",
    "##### **VARIAVEL X**\n",
    "- Preço (Talvez encontrar um range????)\n",
    "\n",
    "------------------------\n",
    "\n",
    "##### **VARIAVEIS Y**\n",
    "1. [Tipo do imovel](#1-tipo-do-imovel)\n",
    "2. [Tamanho do imóvel](#2-tamanho-do-imóvel)\n",
    "3. [Quantidade de quartos](#3-quantidade-de-quartos)\n",
    "4. [Quantidade de banheiros](#4-quantidade-de-banheiros)\n",
    "5. [Vagas de garagem](#5-vagas-de-garagem)\n",
    "6. [Localização](#6-localização)\n",
    "7. [Cota de enchente](#7-cota-de-enchente)\n",
    "8. [Quantidade de imoveis a venda no bairro](#8-quantidade-de-imoveis-a-venda-no-bairro)\n",
    "9. [Número de imóveis do bairro](#10-número-de-imóveis-do-bairro)\n",
    "10. [Renda familiar]()"
   ]
  },
  {
   "cell_type": "markdown",
   "metadata": {},
   "source": [
    "------------------------------"
   ]
  },
  {
   "cell_type": "markdown",
   "metadata": {},
   "source": [
    "#### 1. Tipo do imovel\n",
    "- Casa\n",
    "- Apartamento\n",
    "- Terreno\n",
    "\n",
    "Categorica nominal\n",
    "\n",
    "------"
   ]
  },
  {
   "cell_type": "markdown",
   "metadata": {},
   "source": [
    "#### 2. Tamanho do imóvel\n",
    "\n",
    "- Numérica continua\n",
    "------"
   ]
  },
  {
   "cell_type": "markdown",
   "metadata": {},
   "source": [
    "#### 3. Quantidade de quartos\n",
    "- Numerica discreta\n",
    "\n",
    "------"
   ]
  },
  {
   "cell_type": "markdown",
   "metadata": {},
   "source": [
    "#### 4. Quantidade de banheiros\n",
    "\n",
    "- Numerica discreta\n",
    "\n",
    "------"
   ]
  },
  {
   "cell_type": "markdown",
   "metadata": {},
   "source": [
    "#### 5. Vagas de garagem\n",
    "\n",
    "- Numerica discreta\n",
    "\n",
    "------"
   ]
  },
  {
   "cell_type": "markdown",
   "metadata": {},
   "source": [
    "#### 6. Localização\n",
    "\n",
    "- Categoriaca nominal\n",
    "\n",
    "------"
   ]
  },
  {
   "cell_type": "markdown",
   "metadata": {},
   "source": [
    "#### 7. Cota de enchente\n",
    "\n",
    "- Numerica continua\n",
    "\n",
    "------"
   ]
  },
  {
   "cell_type": "markdown",
   "metadata": {},
   "source": [
    "#### 8. Quantidade de imoveis a venda no bairro\n",
    "\n",
    "- Numerica discreta\n",
    "\n",
    "------"
   ]
  },
  {
   "cell_type": "markdown",
   "metadata": {},
   "source": [
    "#### 10. Número de imóveis do bairro\n",
    "\n",
    "- Numerica discreta\n",
    "\n",
    "\n",
    "------"
   ]
  }
 ],
 "metadata": {
  "language_info": {
   "name": "python"
  },
  "orig_nbformat": 4
 },
 "nbformat": 4,
 "nbformat_minor": 2
}
